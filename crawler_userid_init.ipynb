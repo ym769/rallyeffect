{
 "cells": [
  {
   "cell_type": "code",
   "execution_count": 1,
   "metadata": {},
   "outputs": [],
   "source": [
    "import tweepy\n",
    "import json\n",
    "import sys\n",
    "from dateutil import parser\n",
    "from time import gmtime, strftime\n",
    "from tweepy import TweepError\n",
    "import time\n",
    "\n",
    "# kimuyu0\n",
    "consumer_key = \"PJET20dG9uCFAC7MtKkgEs1HL\"\n",
    "consumer_secret = \"TE4cS896GFWWJ8GYdhqQxwlsft6fu2rssHU954Gr5Obacq3L3w\"\n",
    "access_token = \"987897480795713536-JMg1RzW6LhxHJ7TwqOKLbzlIhZdsYd0\"\n",
    "access_token_secret = \"OdqwCrvz9CNqj1MmjzZM6rE5VPwn43UhFJyEp9ZTQ3nyd\"\n",
    "\n",
    "auth = tweepy.OAuthHandler(consumer_key, consumer_secret)\n",
    "auth.set_access_token(access_token, access_token_secret)\n"
   ]
  },
  {
   "cell_type": "code",
   "execution_count": 2,
   "metadata": {},
   "outputs": [],
   "source": [
    "## 取得するアカウントを指定\n",
    "api = tweepy.API(auth)\n",
    "user = 'realDonaldTrump'\n",
    "# id checker : https://idtwi.com/\n",
    "user_id = 25073877"
   ]
  },
  {
   "cell_type": "code",
   "execution_count": 3,
   "metadata": {},
   "outputs": [],
   "source": [
    "# https://github.com/tweepy/tweepy/issues/974\n",
    "initial_result = api.user_timeline(user_id=user_id, count=100,tweet_mode='extended')\n",
    "\n",
    "# _jsonでTweepy Status objectがjsonになるらしい\n",
    "tweets = []\n",
    "for tweet in initial_result:\n",
    "    data = tweet._json\n",
    "    tweets.append(data)"
   ]
  },
  {
   "cell_type": "code",
   "execution_count": 4,
   "metadata": {},
   "outputs": [
    {
     "data": {
      "text/plain": [
       "100"
      ]
     },
     "execution_count": 4,
     "metadata": {},
     "output_type": "execute_result"
    }
   ],
   "source": [
    "len(tweets)"
   ]
  },
  {
   "cell_type": "code",
   "execution_count": 5,
   "metadata": {},
   "outputs": [],
   "source": [
    "#tweets[59]"
   ]
  },
  {
   "cell_type": "code",
   "execution_count": 6,
   "metadata": {},
   "outputs": [
    {
     "name": "stdout",
     "output_type": "stream",
     "text": [
      "199\n",
      "298\n",
      "397\n",
      "496\n",
      "595\n",
      "694\n",
      "792\n",
      "891\n",
      "990\n",
      "1089\n",
      "1188\n",
      "1287\n",
      "1384\n",
      "1483\n",
      "1582\n",
      "1681\n",
      "1780\n",
      "1879\n",
      "1978\n",
      "2077\n",
      "2176\n",
      "2275\n",
      "2374\n",
      "2473\n",
      "2572\n",
      "2668\n",
      "2766\n",
      "2865\n",
      "2963\n",
      "3061\n",
      "3159\n",
      "3238\n",
      "3238\n",
      "3238\n",
      "3238\n",
      "3238\n"
     ]
    }
   ],
   "source": [
    "for i in range(36):\n",
    "    oldest_tweet = list(sorted(tweets, key=lambda x: parser.parse(x['created_at'])))[0]['id_str']\n",
    " #   print(list(sorted(tweets, key=lambda x: parser.parse(x['created_at'])))[0][\"created_at\"])\n",
    "    results = api.user_timeline(user_id=user_id, max_id =oldest_tweet,count=100,tweet_mode='extended')\n",
    "    for data in results:\n",
    "        the_tweet = data._json\n",
    "        if the_tweet[\"id_str\"] != oldest_tweet:\n",
    "            tweets.append(the_tweet)\n",
    "\n",
    "    print(len(tweets))\n",
    "    time.sleep(3)"
   ]
  },
  {
   "cell_type": "code",
   "execution_count": 7,
   "metadata": {},
   "outputs": [
    {
     "data": {
      "text/plain": [
       "{'created_at': 'Sun Mar 08 16:23:39 +0000 2020',\n",
       " 'id': 1236689044366557184,\n",
       " 'id_str': '1236689044366557184',\n",
       " 'full_text': 'The New York Times is an embarrassment to journalism. They were a dead paper before I went into politics, and they will be a dead paper after I leave, which will be in 5 years. Fake News is the Enemy of the people!',\n",
       " 'truncated': False,\n",
       " 'display_text_range': [0, 214],\n",
       " 'entities': {'hashtags': [], 'symbols': [], 'user_mentions': [], 'urls': []},\n",
       " 'source': '<a href=\"http://twitter.com/download/iphone\" rel=\"nofollow\">Twitter for iPhone</a>',\n",
       " 'in_reply_to_status_id': None,\n",
       " 'in_reply_to_status_id_str': None,\n",
       " 'in_reply_to_user_id': None,\n",
       " 'in_reply_to_user_id_str': None,\n",
       " 'in_reply_to_screen_name': None,\n",
       " 'user': {'id': 25073877,\n",
       "  'id_str': '25073877',\n",
       "  'name': 'Donald J. Trump',\n",
       "  'screen_name': 'realDonaldTrump',\n",
       "  'location': 'Washington, DC',\n",
       "  'description': '45th President of the United States of America🇺🇸',\n",
       "  'url': 'https://t.co/OMxB0x7xC5',\n",
       "  'entities': {'url': {'urls': [{'url': 'https://t.co/OMxB0x7xC5',\n",
       "      'expanded_url': 'http://www.Instagram.com/realDonaldTrump',\n",
       "      'display_url': 'Instagram.com/realDonaldTrump',\n",
       "      'indices': [0, 23]}]},\n",
       "   'description': {'urls': []}},\n",
       "  'protected': False,\n",
       "  'followers_count': 82048598,\n",
       "  'friends_count': 46,\n",
       "  'listed_count': 115228,\n",
       "  'created_at': 'Wed Mar 18 13:46:38 +0000 2009',\n",
       "  'favourites_count': 4,\n",
       "  'utc_offset': None,\n",
       "  'time_zone': None,\n",
       "  'geo_enabled': True,\n",
       "  'verified': True,\n",
       "  'statuses_count': 52803,\n",
       "  'lang': None,\n",
       "  'contributors_enabled': False,\n",
       "  'is_translator': False,\n",
       "  'is_translation_enabled': True,\n",
       "  'profile_background_color': '6D5C18',\n",
       "  'profile_background_image_url': 'http://abs.twimg.com/images/themes/theme1/bg.png',\n",
       "  'profile_background_image_url_https': 'https://abs.twimg.com/images/themes/theme1/bg.png',\n",
       "  'profile_background_tile': True,\n",
       "  'profile_image_url': 'http://pbs.twimg.com/profile_images/874276197357596672/kUuht00m_normal.jpg',\n",
       "  'profile_image_url_https': 'https://pbs.twimg.com/profile_images/874276197357596672/kUuht00m_normal.jpg',\n",
       "  'profile_banner_url': 'https://pbs.twimg.com/profile_banners/25073877/1583212785',\n",
       "  'profile_link_color': '1B95E0',\n",
       "  'profile_sidebar_border_color': 'BDDCAD',\n",
       "  'profile_sidebar_fill_color': 'C5CEC0',\n",
       "  'profile_text_color': '333333',\n",
       "  'profile_use_background_image': True,\n",
       "  'has_extended_profile': False,\n",
       "  'default_profile': False,\n",
       "  'default_profile_image': False,\n",
       "  'following': False,\n",
       "  'follow_request_sent': False,\n",
       "  'notifications': False,\n",
       "  'translator_type': 'regular'},\n",
       " 'geo': None,\n",
       " 'coordinates': None,\n",
       " 'place': None,\n",
       " 'contributors': None,\n",
       " 'is_quote_status': False,\n",
       " 'retweet_count': 38612,\n",
       " 'favorite_count': 182149,\n",
       " 'favorited': False,\n",
       " 'retweeted': False,\n",
       " 'lang': 'en'}"
      ]
     },
     "execution_count": 7,
     "metadata": {},
     "output_type": "execute_result"
    }
   ],
   "source": [
    "tweets[-1]"
   ]
  },
  {
   "cell_type": "code",
   "execution_count": 9,
   "metadata": {},
   "outputs": [],
   "source": [
    "import pickle\n",
    "with open(\"trumptweet.pkl\",\"wb\") as f:\n",
    "    pickle.dump(tweets, f)"
   ]
  },
  {
   "cell_type": "code",
   "execution_count": 11,
   "metadata": {},
   "outputs": [],
   "source": [
    "import os\n",
    "dir_path = user+\"_archive\"\n",
    "#os.makedirs(dir_path)"
   ]
  },
  {
   "cell_type": "code",
   "execution_count": 12,
   "metadata": {},
   "outputs": [],
   "source": [
    "date = tweets[0][\"created_at\"].split(\" \")[1]+\"-\"+tweets[0][\"created_at\"].split(\" \")[2]+\"-\"+tweets[0][\"created_at\"].split(\" \")[3].replace(\":\",\"-\")+\"-\"+tweets[0][\"created_at\"].split(\" \")[-1]\n"
   ]
  },
  {
   "cell_type": "code",
   "execution_count": 13,
   "metadata": {},
   "outputs": [
    {
     "ename": "FileNotFoundError",
     "evalue": "[Errno 2] No such file or directory: 'realDonaldTrump_archive/realDonaldTrump-Jun-12-01-24-35-2020.json'",
     "output_type": "error",
     "traceback": [
      "\u001b[1;31m---------------------------------------------------------------------------\u001b[0m",
      "\u001b[1;31mFileNotFoundError\u001b[0m                         Traceback (most recent call last)",
      "\u001b[1;32m<ipython-input-13-7d4af1968e76>\u001b[0m in \u001b[0;36m<module>\u001b[1;34m\u001b[0m\n\u001b[1;32m----> 1\u001b[1;33m \u001b[1;32mwith\u001b[0m \u001b[0mopen\u001b[0m\u001b[1;33m(\u001b[0m\u001b[0mdir_path\u001b[0m\u001b[1;33m+\u001b[0m\u001b[1;34m'/'\u001b[0m\u001b[1;33m+\u001b[0m\u001b[0muser\u001b[0m\u001b[1;33m+\u001b[0m\u001b[1;34m\"-\"\u001b[0m\u001b[1;33m+\u001b[0m\u001b[0mdate\u001b[0m\u001b[1;33m+\u001b[0m\u001b[1;34m'.json'\u001b[0m\u001b[1;33m,\u001b[0m \u001b[1;34m'w'\u001b[0m\u001b[1;33m)\u001b[0m \u001b[1;32mas\u001b[0m \u001b[0mf\u001b[0m\u001b[1;33m:\u001b[0m\u001b[1;33m\u001b[0m\u001b[1;33m\u001b[0m\u001b[0m\n\u001b[0m\u001b[0;32m      2\u001b[0m     \u001b[0mjson\u001b[0m\u001b[1;33m.\u001b[0m\u001b[0mdump\u001b[0m\u001b[1;33m(\u001b[0m\u001b[0mtweets\u001b[0m\u001b[1;33m,\u001b[0m \u001b[0mf\u001b[0m\u001b[1;33m)\u001b[0m\u001b[1;33m\u001b[0m\u001b[1;33m\u001b[0m\u001b[0m\n",
      "\u001b[1;31mFileNotFoundError\u001b[0m: [Errno 2] No such file or directory: 'realDonaldTrump_archive/realDonaldTrump-Jun-12-01-24-35-2020.json'"
     ]
    }
   ],
   "source": [
    "with open(dir_path+'/'+user+\"-\"+date+'.json', 'w') as f:\n",
    "    json.dump(tweets, f)"
   ]
  },
  {
   "cell_type": "code",
   "execution_count": null,
   "metadata": {},
   "outputs": [],
   "source": [
    "#for i in range(1):\n",
    "#    print(tweets[i][\"full_text\"])"
   ]
  },
  {
   "cell_type": "code",
   "execution_count": null,
   "metadata": {},
   "outputs": [],
   "source": []
  }
 ],
 "metadata": {
  "kernelspec": {
   "display_name": "Python 3",
   "language": "python",
   "name": "python3"
  },
  "language_info": {
   "codemirror_mode": {
    "name": "ipython",
    "version": 3
   },
   "file_extension": ".py",
   "mimetype": "text/x-python",
   "name": "python",
   "nbconvert_exporter": "python",
   "pygments_lexer": "ipython3",
   "version": "3.7.3"
  }
 },
 "nbformat": 4,
 "nbformat_minor": 2
}

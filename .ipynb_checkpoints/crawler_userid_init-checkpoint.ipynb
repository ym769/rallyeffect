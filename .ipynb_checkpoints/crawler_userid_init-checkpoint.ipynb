{
 "cells": [
  {
   "cell_type": "code",
   "execution_count": 1,
   "metadata": {},
   "outputs": [],
   "source": [
    "import tweepy\n",
    "import json\n",
    "import sys\n",
    "from dateutil import parser\n",
    "from time import gmtime, strftime\n",
    "from tweepy import TweepError\n",
    "import time\n",
    "\n",
    "# kimuyu0\n",
    "consumer_key = \"PJET20dG9uCFAC7MtKkgEs1HL\"\n",
    "consumer_secret = \"TE4cS896GFWWJ8GYdhqQxwlsft6fu2rssHU954Gr5Obacq3L3w\"\n",
    "access_token = \"987897480795713536-JMg1RzW6LhxHJ7TwqOKLbzlIhZdsYd0\"\n",
    "access_token_secret = \"OdqwCrvz9CNqj1MmjzZM6rE5VPwn43UhFJyEp9ZTQ3nyd\"\n",
    "\n",
    "auth = tweepy.OAuthHandler(consumer_key, consumer_secret)\n",
    "auth.set_access_token(access_token, access_token_secret)\n"
   ]
  },
  {
   "cell_type": "code",
   "execution_count": 4,
   "metadata": {},
   "outputs": [],
   "source": [
    "## 取得するアカウントを指定\n",
    "api = tweepy.API(auth)\n",
    "user = 'realDonaldTrump'\n",
    "# id checker : https://idtwi.com/\n",
    "user_id = 25073877"
   ]
  },
  {
   "cell_type": "code",
   "execution_count": 5,
   "metadata": {},
   "outputs": [],
   "source": [
    "# https://github.com/tweepy/tweepy/issues/974\n",
    "initial_result = api.user_timeline(user_id=user_id, count=100,tweet_mode='extended')\n",
    "\n",
    "# _jsonでTweepy Status objectがjsonになるらしい\n",
    "tweets = []\n",
    "for tweet in initial_result:\n",
    "    data = tweet._json\n",
    "    tweets.append(data)"
   ]
  },
  {
   "cell_type": "code",
   "execution_count": 6,
   "metadata": {},
   "outputs": [
    {
     "data": {
      "text/plain": [
       "100"
      ]
     },
     "execution_count": 6,
     "metadata": {},
     "output_type": "execute_result"
    }
   ],
   "source": [
    "len(tweets)"
   ]
  },
  {
   "cell_type": "code",
   "execution_count": 7,
   "metadata": {},
   "outputs": [],
   "source": [
    "#tweets[59]"
   ]
  },
  {
   "cell_type": "code",
   "execution_count": null,
   "metadata": {},
   "outputs": [
    {
     "name": "stdout",
     "output_type": "stream",
     "text": [
      "199\n",
      "298\n",
      "397\n",
      "496\n",
      "595\n",
      "694\n",
      "792\n",
      "891\n"
     ]
    }
   ],
   "source": [
    "for i in range(36):\n",
    "    oldest_tweet = list(sorted(tweets, key=lambda x: parser.parse(x['created_at'])))[0]['id_str']\n",
    " #   print(list(sorted(tweets, key=lambda x: parser.parse(x['created_at'])))[0][\"created_at\"])\n",
    "    results = api.user_timeline(user_id=user_id, max_id =oldest_tweet,count=100,tweet_mode='extended')\n",
    "    for data in results:\n",
    "        the_tweet = data._json\n",
    "        if the_tweet[\"id_str\"] != oldest_tweet:\n",
    "            tweets.append(the_tweet)\n",
    "\n",
    "    print(len(tweets))\n",
    "    time.sleep(3)"
   ]
  },
  {
   "cell_type": "code",
   "execution_count": 36,
   "metadata": {},
   "outputs": [
    {
     "data": {
      "text/plain": [
       "{'created_at': 'Mon Dec 30 00:10:07 +0000 2013',\n",
       " 'id': 417447469429948417,\n",
       " 'id_str': '417447469429948417',\n",
       " 'full_text': 'Excited to start the new year in Chicago with free public events January 7-8: Give and Take, then Office Hours: http://t.co/KTEGqFa6Fb',\n",
       " 'truncated': False,\n",
       " 'display_text_range': [0, 134],\n",
       " 'entities': {'hashtags': [],\n",
       "  'symbols': [],\n",
       "  'user_mentions': [],\n",
       "  'urls': [{'url': 'http://t.co/KTEGqFa6Fb',\n",
       "    'expanded_url': 'http://www.familyactionnetwork.net/',\n",
       "    'display_url': 'familyactionnetwork.net',\n",
       "    'indices': [112, 134]}]},\n",
       " 'source': '<a href=\"http://twitter.com\" rel=\"nofollow\">Twitter Web Client</a>',\n",
       " 'in_reply_to_status_id': None,\n",
       " 'in_reply_to_status_id_str': None,\n",
       " 'in_reply_to_user_id': None,\n",
       " 'in_reply_to_user_id_str': None,\n",
       " 'in_reply_to_screen_name': None,\n",
       " 'user': {'id': 1059273780,\n",
       "  'id_str': '1059273780',\n",
       "  'name': 'Adam Grant',\n",
       "  'screen_name': 'AdamMGrant',\n",
       "  'location': 'Philadelphia, USA',\n",
       "  'description': 'Organizational psychologist @Wharton. Books: GIVE AND TAKE, ORIGINALS, OPTION B. Podcast: WorkLife @TEDTalks. Diver. Success is helping others succeed.',\n",
       "  'url': 'https://t.co/OEBqDra8tq',\n",
       "  'entities': {'url': {'urls': [{'url': 'https://t.co/OEBqDra8tq',\n",
       "      'expanded_url': 'http://www.adamgrant.net',\n",
       "      'display_url': 'adamgrant.net',\n",
       "      'indices': [0, 23]}]},\n",
       "   'description': {'urls': []}},\n",
       "  'protected': False,\n",
       "  'followers_count': 306991,\n",
       "  'friends_count': 887,\n",
       "  'listed_count': 5105,\n",
       "  'created_at': 'Fri Jan 04 01:59:16 +0000 2013',\n",
       "  'favourites_count': 272680,\n",
       "  'utc_offset': None,\n",
       "  'time_zone': None,\n",
       "  'geo_enabled': False,\n",
       "  'verified': True,\n",
       "  'statuses_count': 3842,\n",
       "  'lang': None,\n",
       "  'contributors_enabled': False,\n",
       "  'is_translator': False,\n",
       "  'is_translation_enabled': False,\n",
       "  'profile_background_color': 'FFFFFF',\n",
       "  'profile_background_image_url': 'http://abs.twimg.com/images/themes/theme1/bg.png',\n",
       "  'profile_background_image_url_https': 'https://abs.twimg.com/images/themes/theme1/bg.png',\n",
       "  'profile_background_tile': False,\n",
       "  'profile_image_url': 'http://pbs.twimg.com/profile_images/1169919000123518978/37QQ8Una_normal.jpg',\n",
       "  'profile_image_url_https': 'https://pbs.twimg.com/profile_images/1169919000123518978/37QQ8Una_normal.jpg',\n",
       "  'profile_banner_url': 'https://pbs.twimg.com/profile_banners/1059273780/1552414634',\n",
       "  'profile_link_color': '0084B4',\n",
       "  'profile_sidebar_border_color': 'FFFFFF',\n",
       "  'profile_sidebar_fill_color': 'DDEEF6',\n",
       "  'profile_text_color': '333333',\n",
       "  'profile_use_background_image': True,\n",
       "  'has_extended_profile': False,\n",
       "  'default_profile': False,\n",
       "  'default_profile_image': False,\n",
       "  'following': True,\n",
       "  'follow_request_sent': False,\n",
       "  'notifications': False,\n",
       "  'translator_type': 'none'},\n",
       " 'geo': None,\n",
       " 'coordinates': None,\n",
       " 'place': None,\n",
       " 'contributors': None,\n",
       " 'is_quote_status': False,\n",
       " 'retweet_count': 8,\n",
       " 'favorite_count': 7,\n",
       " 'favorited': False,\n",
       " 'retweeted': False,\n",
       " 'possibly_sensitive': False,\n",
       " 'lang': 'en'}"
      ]
     },
     "execution_count": 36,
     "metadata": {},
     "output_type": "execute_result"
    }
   ],
   "source": [
    "tweets[-1]"
   ]
  },
  {
   "cell_type": "code",
   "execution_count": 37,
   "metadata": {},
   "outputs": [],
   "source": [
    "with open(user+'_.json', 'w') as f:\n",
    "    json.dump(tweets, f)"
   ]
  },
  {
   "cell_type": "code",
   "execution_count": 39,
   "metadata": {},
   "outputs": [],
   "source": [
    "import os\n",
    "dir_path = user+\"_archive\"\n",
    "#os.makedirs(dir_path)"
   ]
  },
  {
   "cell_type": "code",
   "execution_count": 40,
   "metadata": {},
   "outputs": [],
   "source": [
    "date = tweets[0][\"created_at\"].split(\" \")[1]+\"-\"+tweets[0][\"created_at\"].split(\" \")[2]+\"-\"+tweets[0][\"created_at\"].split(\" \")[3].replace(\":\",\"-\")+\"-\"+tweets[0][\"created_at\"].split(\" \")[-1]\n"
   ]
  },
  {
   "cell_type": "code",
   "execution_count": 41,
   "metadata": {},
   "outputs": [],
   "source": [
    "with open(dir_path+'/'+user+\"-\"+date+'.json', 'w') as f:\n",
    "    json.dump(tweets, f)"
   ]
  },
  {
   "cell_type": "code",
   "execution_count": 43,
   "metadata": {},
   "outputs": [
    {
     "name": "stdout",
     "output_type": "stream",
     "text": [
      "Leadership is more than developing a vision and strategy. It's caring about the people who implement that vision and strategy.\n",
      "\n",
      "Legacies are forged by the compassion leaders show, not only the results they achieve.\n",
      "\n",
      "#SundayThoughts https://t.co/yoZY1sjiRm https://t.co/IbnSXipujr\n"
     ]
    }
   ],
   "source": [
    "#for i in range(1):\n",
    "#    print(tweets[i][\"full_text\"])"
   ]
  },
  {
   "cell_type": "code",
   "execution_count": null,
   "metadata": {},
   "outputs": [],
   "source": []
  }
 ],
 "metadata": {
  "kernelspec": {
   "display_name": "Python 3",
   "language": "python",
   "name": "python3"
  },
  "language_info": {
   "codemirror_mode": {
    "name": "ipython",
    "version": 3
   },
   "file_extension": ".py",
   "mimetype": "text/x-python",
   "name": "python",
   "nbconvert_exporter": "python",
   "pygments_lexer": "ipython3",
   "version": "3.7.3"
  }
 },
 "nbformat": 4,
 "nbformat_minor": 2
}
